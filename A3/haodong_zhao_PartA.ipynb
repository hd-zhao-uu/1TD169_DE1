{
 "cells": [
  {
   "cell_type": "code",
   "execution_count": 1,
   "id": "924c844b-cca8-47a3-bf83-4981312d1ce4",
   "metadata": {},
   "outputs": [],
   "source": [
    "from pyspark.sql import SparkSession\n",
    "import re\n",
    "from collections import OrderedDict\n",
    "from operator import itemgetter \n",
    "import itertools"
   ]
  },
  {
   "cell_type": "code",
   "execution_count": 2,
   "id": "5c0491ad-77a3-471d-ad5b-ffd65b458da3",
   "metadata": {},
   "outputs": [
    {
     "name": "stderr",
     "output_type": "stream",
     "text": [
      "Using Spark's default log4j profile: org/apache/spark/log4j-defaults.properties\n",
      "Setting default log level to \"WARN\".\n",
      "To adjust logging level use sc.setLogLevel(newLevel). For SparkR, use setLogLevel(newLevel).\n",
      "22/02/25 16:40:18 WARN NativeCodeLoader: Unable to load native-hadoop library for your platform... using builtin-java classes where applicable\n",
      "22/02/25 16:40:21 WARN ExecutorAllocationManager: Dynamic allocation without a shuffle service is an experimental feature.\n"
     ]
    }
   ],
   "source": [
    "# New API\n",
    "spark_session = SparkSession\\\n",
    "        .builder\\\n",
    "        .master(\"spark://192.168.2.119:7077\") \\\n",
    "        .appName(\"haodong_zhao_partA\")\\\n",
    "        .config(\"spark.executor.cores\",2)\\\n",
    "        .config(\"spark.dynamicAllocation.enabled\", True)\\\n",
    "        .config(\"spark.dynamicAllocation.shuffleTracking.enabled\", True)\\\n",
    "        .config(\"spark.shuffle.service.enabled\", False)\\\n",
    "        .config(\"spark.dynamicAllocation.executorIdleTimeout\",\"30s\")\\\n",
    "        .config(\"spark.driver.port\",9998)\\\n",
    "        .config(\"spark.blockManager.port\",10005)\\\n",
    "        .getOrCreate()\n",
    "\n",
    "# Old API (RDD)\n",
    "spark_context = spark_session.sparkContext\n",
    "\n",
    "spark_context.setLogLevel(\"ERROR\")"
   ]
  },
  {
   "cell_type": "markdown",
   "id": "aed802b0-e0a1-44e8-b0d5-462f337ad221",
   "metadata": {},
   "source": [
    "---"
   ]
  },
  {
   "cell_type": "markdown",
   "id": "1d81f215-39d2-4f50-ab04-1eb36ec2cdab",
   "metadata": {},
   "source": [
    "# Question A.1"
   ]
  },
  {
   "cell_type": "markdown",
   "id": "44e8ad75-bb29-45cc-99b1-656846f0d718",
   "metadata": {},
   "source": [
    "## A.1.1 "
   ]
  },
  {
   "cell_type": "markdown",
   "id": "18da433a-ca03-46ed-83ab-7e29e44c9ced",
   "metadata": {},
   "source": [
    "Read the English transcripts with Spark, and count the number of lines"
   ]
  },
  {
   "cell_type": "code",
   "execution_count": null,
   "id": "e61cf7c4-073a-4811-ba75-5bc1a1bb2695",
   "metadata": {},
   "outputs": [
    {
     "name": "stderr",
     "output_type": "stream",
     "text": [
      "[Stage 0:>                                                          (0 + 2) / 2]\r"
     ]
    },
    {
     "name": "stdout",
     "output_type": "stream",
     "text": [
      "1862234\n"
     ]
    },
    {
     "name": "stderr",
     "output_type": "stream",
     "text": [
      "                                                                                \r"
     ]
    }
   ],
   "source": [
    "lines_en = spark_context.textFile(\"hdfs://host-192-168-2-119-de1:9000/europarl/europarl-v7.sv-en.en\")\n",
    "lines_en_num = lines_en.count()\n",
    "print (lines_en_num)"
   ]
  },
  {
   "cell_type": "markdown",
   "id": "db605b1e-301e-4803-ad0d-dc01621bf785",
   "metadata": {},
   "source": [
    "## A.1.2 "
   ]
  },
  {
   "cell_type": "markdown",
   "id": "593caec0-6127-463c-b003-3f4376171143",
   "metadata": {},
   "source": [
    "Do the same with the other language (so that you have a separate lineage of RDDs for each)."
   ]
  },
  {
   "cell_type": "code",
   "execution_count": null,
   "id": "c856ba97-566a-456d-9ee2-1286b479de03",
   "metadata": {},
   "outputs": [
    {
     "name": "stderr",
     "output_type": "stream",
     "text": [
      "[Stage 1:=======================================>                   (2 + 1) / 3]\r"
     ]
    },
    {
     "name": "stdout",
     "output_type": "stream",
     "text": [
      "1862234\n"
     ]
    },
    {
     "name": "stderr",
     "output_type": "stream",
     "text": [
      "                                                                                \r"
     ]
    }
   ],
   "source": [
    "lines_sv = spark_context.textFile(\"hdfs://host-192-168-2-119-de1:9000/europarl/europarl-v7.sv-en.sv\")\n",
    "lines_sv_num = lines_sv.count()\n",
    "print (lines_sv_num)"
   ]
  },
  {
   "cell_type": "markdown",
   "id": "b8c367d4-d3f5-4381-97f6-d84363ba0666",
   "metadata": {},
   "source": [
    "## A.1.3 "
   ]
  },
  {
   "cell_type": "markdown",
   "id": "33944d6e-a7ef-4836-ae6c-854518a1d921",
   "metadata": {},
   "source": [
    "Verify that the line counts are the same for the two languages."
   ]
  },
  {
   "cell_type": "code",
   "execution_count": null,
   "id": "7b9fd112-fe20-47e6-bd91-1b371dd82f57",
   "metadata": {},
   "outputs": [
    {
     "data": {
      "text/plain": [
       "True"
      ]
     },
     "execution_count": 5,
     "metadata": {},
     "output_type": "execute_result"
    }
   ],
   "source": [
    "lines_en_num == lines_sv_num"
   ]
  },
  {
   "cell_type": "markdown",
   "id": "e6c0457f-1c97-4889-889d-0a207f169752",
   "metadata": {},
   "source": [
    "## A.1.4 "
   ]
  },
  {
   "cell_type": "markdown",
   "id": "520f88d5-553a-4917-bb0f-d3c9e0fa4b00",
   "metadata": {},
   "source": [
    "Count the number of partitions."
   ]
  },
  {
   "cell_type": "code",
   "execution_count": null,
   "id": "3603264f-1257-46cb-82d9-a17f128f5dad",
   "metadata": {},
   "outputs": [
    {
     "name": "stdout",
     "output_type": "stream",
     "text": [
      "#Partitions EN: 2\n",
      "#Partitions SV: 3\n"
     ]
    }
   ],
   "source": [
    "en_partitions_num = lines_en.getNumPartitions()\n",
    "sv_partitions_num = lines_sv.getNumPartitions()\n",
    "print('#Partitions EN: {}\\n#Partitions SV: {}'.format(en_partitions_num, sv_partitions_num))"
   ]
  },
  {
   "cell_type": "markdown",
   "id": "fea8e306-29ee-45fa-a65e-0ea6e5c908b4",
   "metadata": {},
   "source": [
    "---"
   ]
  },
  {
   "cell_type": "markdown",
   "id": "fe2ba7a8-f15c-46c0-bdba-f70c8abd004b",
   "metadata": {},
   "source": [
    "# Question A.2"
   ]
  },
  {
   "cell_type": "markdown",
   "id": "181a3d48-af33-445c-9b99-d2bd46a37c72",
   "metadata": {},
   "source": [
    "## A.2.1"
   ]
  },
  {
   "cell_type": "markdown",
   "id": "0a6283aa-077e-4e52-b3ac-01a83a4b1062",
   "metadata": {},
   "source": [
    "Pre-process the text from both RDDs by doing the following:\n",
    "- Lowercase the text\n",
    "- Tokenize the text (split on space)\n",
    "\n",
    "Hint: define a function to run in your driver application to avoid writing this code twice"
   ]
  },
  {
   "cell_type": "code",
   "execution_count": null,
   "id": "5528251f-2b36-4981-a07d-482387348faa",
   "metadata": {},
   "outputs": [],
   "source": [
    "def preprocess(rdd):\n",
    "    rdd = rdd.map(lambda line: line.lower())\n",
    "    pattern = r'[^\\w\\s]' # matches chars other than alphanumeric chars and whitespace chars\n",
    "    rdd = rdd.map(lambda line: re.sub(pattern,'',line)) # replace\n",
    "    rdd = rdd.map(lambda line: line.split(' '))\n",
    "    return rdd\n",
    "    "
   ]
  },
  {
   "cell_type": "code",
   "execution_count": null,
   "id": "6a24c59a-128c-4080-9d20-24f8506b38ea",
   "metadata": {},
   "outputs": [],
   "source": [
    "tokenize_en = preprocess(lines_en)\n",
    "tokenize_sv = preprocess(lines_sv)"
   ]
  },
  {
   "cell_type": "markdown",
   "id": "a5b218e2-1270-4901-9e9e-4a8887fcd127",
   "metadata": {},
   "source": [
    "# A 2.2"
   ]
  },
  {
   "cell_type": "markdown",
   "id": "9286b071-1a08-4581-a125-f0369a0236b8",
   "metadata": {},
   "source": [
    "Inspect 10 entries from each of your RDDs to verify your pre-processing"
   ]
  },
  {
   "cell_type": "code",
   "execution_count": null,
   "id": "23993898-458a-4cd7-8a5c-60a205551f3e",
   "metadata": {},
   "outputs": [
    {
     "data": {
      "text/plain": [
       "[['resumption', 'of', 'the', 'session'],\n",
       " ['i',\n",
       "  'declare',\n",
       "  'resumed',\n",
       "  'the',\n",
       "  'session',\n",
       "  'of',\n",
       "  'the',\n",
       "  'european',\n",
       "  'parliament',\n",
       "  'adjourned',\n",
       "  'on',\n",
       "  'friday',\n",
       "  '17',\n",
       "  'december',\n",
       "  '1999',\n",
       "  'and',\n",
       "  'i',\n",
       "  'would',\n",
       "  'like',\n",
       "  'once',\n",
       "  'again',\n",
       "  'to',\n",
       "  'wish',\n",
       "  'you',\n",
       "  'a',\n",
       "  'happy',\n",
       "  'new',\n",
       "  'year',\n",
       "  'in',\n",
       "  'the',\n",
       "  'hope',\n",
       "  'that',\n",
       "  'you',\n",
       "  'enjoyed',\n",
       "  'a',\n",
       "  'pleasant',\n",
       "  'festive',\n",
       "  'period'],\n",
       " ['although',\n",
       "  'as',\n",
       "  'you',\n",
       "  'will',\n",
       "  'have',\n",
       "  'seen',\n",
       "  'the',\n",
       "  'dreaded',\n",
       "  'millennium',\n",
       "  'bug',\n",
       "  'failed',\n",
       "  'to',\n",
       "  'materialise',\n",
       "  'still',\n",
       "  'the',\n",
       "  'people',\n",
       "  'in',\n",
       "  'a',\n",
       "  'number',\n",
       "  'of',\n",
       "  'countries',\n",
       "  'suffered',\n",
       "  'a',\n",
       "  'series',\n",
       "  'of',\n",
       "  'natural',\n",
       "  'disasters',\n",
       "  'that',\n",
       "  'truly',\n",
       "  'were',\n",
       "  'dreadful'],\n",
       " ['you',\n",
       "  'have',\n",
       "  'requested',\n",
       "  'a',\n",
       "  'debate',\n",
       "  'on',\n",
       "  'this',\n",
       "  'subject',\n",
       "  'in',\n",
       "  'the',\n",
       "  'course',\n",
       "  'of',\n",
       "  'the',\n",
       "  'next',\n",
       "  'few',\n",
       "  'days',\n",
       "  'during',\n",
       "  'this',\n",
       "  'partsession'],\n",
       " ['in',\n",
       "  'the',\n",
       "  'meantime',\n",
       "  'i',\n",
       "  'should',\n",
       "  'like',\n",
       "  'to',\n",
       "  'observe',\n",
       "  'a',\n",
       "  'minute',\n",
       "  's',\n",
       "  'silence',\n",
       "  'as',\n",
       "  'a',\n",
       "  'number',\n",
       "  'of',\n",
       "  'members',\n",
       "  'have',\n",
       "  'requested',\n",
       "  'on',\n",
       "  'behalf',\n",
       "  'of',\n",
       "  'all',\n",
       "  'the',\n",
       "  'victims',\n",
       "  'concerned',\n",
       "  'particularly',\n",
       "  'those',\n",
       "  'of',\n",
       "  'the',\n",
       "  'terrible',\n",
       "  'storms',\n",
       "  'in',\n",
       "  'the',\n",
       "  'various',\n",
       "  'countries',\n",
       "  'of',\n",
       "  'the',\n",
       "  'european',\n",
       "  'union'],\n",
       " ['please', 'rise', 'then', 'for', 'this', 'minute', 's', 'silence'],\n",
       " ['the', 'house', 'rose', 'and', 'observed', 'a', 'minute', 's', 'silence'],\n",
       " ['madam', 'president', 'on', 'a', 'point', 'of', 'order'],\n",
       " ['you',\n",
       "  'will',\n",
       "  'be',\n",
       "  'aware',\n",
       "  'from',\n",
       "  'the',\n",
       "  'press',\n",
       "  'and',\n",
       "  'television',\n",
       "  'that',\n",
       "  'there',\n",
       "  'have',\n",
       "  'been',\n",
       "  'a',\n",
       "  'number',\n",
       "  'of',\n",
       "  'bomb',\n",
       "  'explosions',\n",
       "  'and',\n",
       "  'killings',\n",
       "  'in',\n",
       "  'sri',\n",
       "  'lanka'],\n",
       " ['one',\n",
       "  'of',\n",
       "  'the',\n",
       "  'people',\n",
       "  'assassinated',\n",
       "  'very',\n",
       "  'recently',\n",
       "  'in',\n",
       "  'sri',\n",
       "  'lanka',\n",
       "  'was',\n",
       "  'mr',\n",
       "  'kumar',\n",
       "  'ponnambalam',\n",
       "  'who',\n",
       "  'had',\n",
       "  'visited',\n",
       "  'the',\n",
       "  'european',\n",
       "  'parliament',\n",
       "  'just',\n",
       "  'a',\n",
       "  'few',\n",
       "  'months',\n",
       "  'ago']]"
      ]
     },
     "execution_count": 9,
     "metadata": {},
     "output_type": "execute_result"
    }
   ],
   "source": [
    "tokenize_en.take(10)"
   ]
  },
  {
   "cell_type": "code",
   "execution_count": null,
   "id": "9b509655-0069-488e-9c80-5f2ef082f67a",
   "metadata": {},
   "outputs": [
    {
     "data": {
      "text/plain": [
       "[['återupptagande', 'av', 'sessionen'],\n",
       " ['jag',\n",
       "  'förklarar',\n",
       "  'europaparlamentets',\n",
       "  'session',\n",
       "  'återupptagen',\n",
       "  'efter',\n",
       "  'avbrottet',\n",
       "  'den',\n",
       "  '17',\n",
       "  'december',\n",
       "  'jag',\n",
       "  'vill',\n",
       "  'på',\n",
       "  'nytt',\n",
       "  'önska',\n",
       "  'er',\n",
       "  'ett',\n",
       "  'gott',\n",
       "  'nytt',\n",
       "  'år',\n",
       "  'och',\n",
       "  'jag',\n",
       "  'hoppas',\n",
       "  'att',\n",
       "  'ni',\n",
       "  'haft',\n",
       "  'en',\n",
       "  'trevlig',\n",
       "  'semester'],\n",
       " ['som',\n",
       "  'ni',\n",
       "  'kunnat',\n",
       "  'konstatera',\n",
       "  'ägde',\n",
       "  'den',\n",
       "  'stora',\n",
       "  'år',\n",
       "  '2000buggen',\n",
       "  'aldrig',\n",
       "  'rum',\n",
       "  'däremot',\n",
       "  'har',\n",
       "  'invånarna',\n",
       "  'i',\n",
       "  'ett',\n",
       "  'antal',\n",
       "  'av',\n",
       "  'våra',\n",
       "  'medlemsländer',\n",
       "  'drabbats',\n",
       "  'av',\n",
       "  'naturkatastrofer',\n",
       "  'som',\n",
       "  'verkligen',\n",
       "  'varit',\n",
       "  'förskräckliga'],\n",
       " ['ni',\n",
       "  'har',\n",
       "  'begärt',\n",
       "  'en',\n",
       "  'debatt',\n",
       "  'i',\n",
       "  'ämnet',\n",
       "  'under',\n",
       "  'sammanträdesperiodens',\n",
       "  'kommande',\n",
       "  'dagar'],\n",
       " ['till',\n",
       "  'dess',\n",
       "  'vill',\n",
       "  'jag',\n",
       "  'att',\n",
       "  'vi',\n",
       "  'som',\n",
       "  'ett',\n",
       "  'antal',\n",
       "  'kolleger',\n",
       "  'begärt',\n",
       "  'håller',\n",
       "  'en',\n",
       "  'tyst',\n",
       "  'minut',\n",
       "  'för',\n",
       "  'offren',\n",
       "  'för',\n",
       "  'bla',\n",
       "  'stormarna',\n",
       "  'i',\n",
       "  'de',\n",
       "  'länder',\n",
       "  'i',\n",
       "  'europeiska',\n",
       "  'unionen',\n",
       "  'som',\n",
       "  'drabbats'],\n",
       " ['jag', 'ber', 'er', 'resa', 'er', 'för', 'en', 'tyst', 'minut'],\n",
       " ['parlamentet', 'höll', 'en', 'tyst', 'minut'],\n",
       " ['fru', 'talman', 'det', 'gäller', 'en', 'ordningsfråga'],\n",
       " ['ni',\n",
       "  'känner',\n",
       "  'till',\n",
       "  'från',\n",
       "  'media',\n",
       "  'att',\n",
       "  'det',\n",
       "  'skett',\n",
       "  'en',\n",
       "  'rad',\n",
       "  'bombexplosioner',\n",
       "  'och',\n",
       "  'mord',\n",
       "  'i',\n",
       "  'sri',\n",
       "  'lanka'],\n",
       " ['en',\n",
       "  'av',\n",
       "  'de',\n",
       "  'personer',\n",
       "  'som',\n",
       "  'mycket',\n",
       "  'nyligen',\n",
       "  'mördades',\n",
       "  'i',\n",
       "  'sri',\n",
       "  'lanka',\n",
       "  'var',\n",
       "  'kumar',\n",
       "  'ponnambalam',\n",
       "  'som',\n",
       "  'besökte',\n",
       "  'europaparlamentet',\n",
       "  'för',\n",
       "  'bara',\n",
       "  'några',\n",
       "  'månader',\n",
       "  'sedan']]"
      ]
     },
     "execution_count": 10,
     "metadata": {},
     "output_type": "execute_result"
    }
   ],
   "source": [
    "tokenize_sv.take(10)"
   ]
  },
  {
   "cell_type": "markdown",
   "id": "de7da880-461c-44f0-ab5f-3752d8dc43d0",
   "metadata": {},
   "source": [
    "# A.2.3"
   ]
  },
  {
   "cell_type": "markdown",
   "id": "c47fd450-5b68-4c58-a3f8-d2d83ac5e06f",
   "metadata": {},
   "source": [
    "Verify that the line counts still match after the pre-processing"
   ]
  },
  {
   "cell_type": "code",
   "execution_count": null,
   "id": "4b8e6a16-e425-437b-93ae-8c6849bb6e9e",
   "metadata": {},
   "outputs": [
    {
     "name": "stderr",
     "output_type": "stream",
     "text": [
      "                                                                                \r"
     ]
    },
    {
     "data": {
      "text/plain": [
       "True"
      ]
     },
     "execution_count": 11,
     "metadata": {},
     "output_type": "execute_result"
    }
   ],
   "source": [
    "tokenize_en.count() == tokenize_sv.count()"
   ]
  },
  {
   "cell_type": "markdown",
   "id": "deb134da-6f3b-41a9-bf6f-8d599abc0fbf",
   "metadata": {},
   "source": [
    "---"
   ]
  },
  {
   "cell_type": "markdown",
   "id": "c715f58b-1698-4676-9a3b-46780537b970",
   "metadata": {},
   "source": [
    "# Question A.3"
   ]
  },
  {
   "cell_type": "markdown",
   "id": "5e98d892-7ea0-4bee-b18b-207fad7a0a55",
   "metadata": {},
   "source": [
    "## A.3.1"
   ]
  },
  {
   "cell_type": "markdown",
   "id": "701ccfd2-de81-4639-a135-fdcc1732f386",
   "metadata": {},
   "source": [
    "Use Spark to compute the 10 most frequently according words in the English language corpus. \n",
    "Repeat for the other language.\n"
   ]
  },
  {
   "cell_type": "code",
   "execution_count": 14,
   "id": "4677d67b-f979-4c8c-a315-ad7ea35d275c",
   "metadata": {},
   "outputs": [],
   "source": [
    "def word_count(rdd):\n",
    "    rdd = rdd.flatMap(lambda line: line)\\\n",
    "            .map(lambda word: (word, 1))\\\n",
    "            .reduceByKey(lambda v1, v2 : v1+v2)\\\n",
    "            .map(lambda kv: (kv[1], kv[0])) \\\n",
    "            .sortByKey(False)\\\n",
    "            .map(lambda vk: (vk[1], vk[0]))\n",
    "    return rdd"
   ]
  },
  {
   "cell_type": "code",
   "execution_count": 15,
   "id": "85814d02-309a-4258-bba5-936b24b62abd",
   "metadata": {},
   "outputs": [
    {
     "name": "stderr",
     "output_type": "stream",
     "text": [
      "                                                                                \r"
     ]
    },
    {
     "data": {
      "text/plain": [
       "[('the', 3505085),\n",
       " ('of', 1662002),\n",
       " ('to', 1543739),\n",
       " ('and', 1318342),\n",
       " ('in', 1088891),\n",
       " ('that', 839072),\n",
       " ('is', 774939),\n",
       " ('a', 774536),\n",
       " ('for', 538191),\n",
       " ('we', 526480)]"
      ]
     },
     "execution_count": 15,
     "metadata": {},
     "output_type": "execute_result"
    }
   ],
   "source": [
    "word_count(tokenize_en).take(10)"
   ]
  },
  {
   "cell_type": "code",
   "execution_count": 16,
   "id": "577c631f-4341-4894-993a-a7ec51194cc1",
   "metadata": {},
   "outputs": [
    {
     "name": "stderr",
     "output_type": "stream",
     "text": [
      "                                                                                \r"
     ]
    },
    {
     "data": {
      "text/plain": [
       "[('att', 1709936),\n",
       " ('och', 1350369),\n",
       " ('i', 1054248),\n",
       " ('det', 952985),\n",
       " ('som', 917580),\n",
       " ('för', 915079),\n",
       " ('av', 740724),\n",
       " ('är', 701840),\n",
       " ('en', 636827),\n",
       " ('vi', 546068)]"
      ]
     },
     "execution_count": 16,
     "metadata": {},
     "output_type": "execute_result"
    }
   ],
   "source": [
    "word_count(tokenize_sv).take(10)"
   ]
  },
  {
   "cell_type": "markdown",
   "id": "0e8aa1db-685a-4115-8ed9-9f99468623ff",
   "metadata": {},
   "source": [
    "## A.3.2"
   ]
  },
  {
   "cell_type": "markdown",
   "id": "ab5a27c9-2bc4-467d-9a74-aaf558a12519",
   "metadata": {},
   "source": [
    "***Verify that your results are reasonable***"
   ]
  },
  {
   "cell_type": "markdown",
   "id": "baef9ffe-2e14-4bda-a939-68aedfcac838",
   "metadata": {},
   "source": [
    "According to the studies related to this topic, as shown in the links below, the results are reasonable.\n",
    "1. [Most common words in English](https://en.wikipedia.org/wiki/Most_common_words_in_English)\n",
    "2. [1000 MOST COMMON SWEDISH WORDS](https://1000mostcommonwords.com/1000-most-common-swedish-words/)"
   ]
  },
  {
   "cell_type": "markdown",
   "id": "ea571ad8-0da5-4d56-8f6c-51e3fd42e66f",
   "metadata": {},
   "source": [
    "---"
   ]
  },
  {
   "cell_type": "markdown",
   "id": "dfdfffaf-3b2e-47a1-b9cb-05384059ba28",
   "metadata": {},
   "source": [
    "# A.4"
   ]
  },
  {
   "cell_type": "markdown",
   "id": "3f9f8bc9-7472-4f64-a3a4-c1f6d8e3eacd",
   "metadata": {},
   "source": [
    "## A.4.1"
   ]
  },
  {
   "cell_type": "markdown",
   "id": "feea2160-245c-4ce8-b020-0befcc38f34a",
   "metadata": {},
   "source": [
    "Use this parallel corpus to mine some translations in the form of word pairs, for the two languages. Do this by pairing words found on short lines with the same number of words respectively. We (incorrectly) assume the words stay in the same order when translated."
   ]
  },
  {
   "cell_type": "markdown",
   "id": "9979201c-7f07-4715-a5ae-0b734f426a1c",
   "metadata": {},
   "source": [
    "1. Key the lines by their line number (hint: ZipWithIndex())."
   ]
  },
  {
   "cell_type": "code",
   "execution_count": 17,
   "id": "9af9d971-4118-4947-9992-8ba03885ea03",
   "metadata": {},
   "outputs": [
    {
     "name": "stderr",
     "output_type": "stream",
     "text": [
      "                                                                                \r"
     ]
    }
   ],
   "source": [
    "lines_kv_en = tokenize_en.zipWithIndex()\n",
    "lines_kv_sv = tokenize_sv.zipWithIndex()"
   ]
  },
  {
   "cell_type": "markdown",
   "id": "db282681-30cd-4707-bafe-3b5ba90a3cbb",
   "metadata": {},
   "source": [
    "2. Swap the key and value - so that the line number is the key."
   ]
  },
  {
   "cell_type": "code",
   "execution_count": 18,
   "id": "8545560a-3b12-4c27-aa01-f18fc83f9730",
   "metadata": {},
   "outputs": [],
   "source": [
    "lines_vk_en = lines_kv_en.map(lambda kv: (kv[1], kv[0]))\n",
    "lines_vk_sv = lines_kv_sv.map(lambda kv: (kv[1], kv[0]))"
   ]
  },
  {
   "cell_type": "markdown",
   "id": "b04af35a-0613-4839-afec-579dd2054a7b",
   "metadata": {},
   "source": [
    "3. Join the two RDDs together according to the line number key, so you have pairs of matching lines."
   ]
  },
  {
   "cell_type": "code",
   "execution_count": 19,
   "id": "647de47c-7586-4698-ab3d-428a98b2867a",
   "metadata": {},
   "outputs": [],
   "source": [
    "joined_rdd = lines_vk_en.join(lines_vk_sv)"
   ]
  },
  {
   "cell_type": "markdown",
   "id": "12622799-0cf4-466b-b101-572c33a9f101",
   "metadata": {},
   "source": [
    "4. Filter to exclude line pairs that have an empty/missing “corresponding” sentence."
   ]
  },
  {
   "cell_type": "code",
   "execution_count": 21,
   "id": "b25b764b-3485-4bf3-bab7-70a7ed09caf9",
   "metadata": {},
   "outputs": [],
   "source": [
    "joined_rdd = joined_rdd.filter(lambda vk: len(vk[1]) == 2)"
   ]
  },
  {
   "cell_type": "markdown",
   "id": "337b892e-af1e-42f0-a9a9-8bf43c85897d",
   "metadata": {},
   "source": [
    "5. Filter to leave only pairs of sentences with a small number of words per sentence, this should give a more reliable translation (you can experiment)."
   ]
  },
  {
   "cell_type": "code",
   "execution_count": 22,
   "id": "aef9d595-101f-4715-9679-5ff3846b6709",
   "metadata": {},
   "outputs": [
    {
     "name": "stderr",
     "output_type": "stream",
     "text": [
      "                                                                                \r"
     ]
    },
    {
     "data": {
      "text/plain": [
       "[(901935,\n",
       "  (['with',\n",
       "    'the',\n",
       "    'exception',\n",
       "    'of',\n",
       "    'compliance',\n",
       "    'with',\n",
       "    'the',\n",
       "    'new',\n",
       "    'comitology',\n",
       "    'decision',\n",
       "    'through',\n",
       "    'the',\n",
       "    'introduction',\n",
       "    'of',\n",
       "    'the',\n",
       "    'regulatory',\n",
       "    'procedure',\n",
       "    'with',\n",
       "    'scrutiny',\n",
       "    'the',\n",
       "    'only',\n",
       "    'remaining',\n",
       "    'major',\n",
       "    'component',\n",
       "    'of',\n",
       "    'this',\n",
       "    'proposal',\n",
       "    'is',\n",
       "    'the',\n",
       "    'issue',\n",
       "    'of',\n",
       "    'railway',\n",
       "    'vehicle',\n",
       "    'maintenance',\n",
       "    'and',\n",
       "    'the',\n",
       "    'role',\n",
       "    'of',\n",
       "    'vehicle',\n",
       "    'keepers'],\n",
       "   ['med',\n",
       "    'undantag',\n",
       "    'för',\n",
       "    'förenligheten',\n",
       "    'med',\n",
       "    'det',\n",
       "    'nya',\n",
       "    'kommittébeslutet',\n",
       "    'genom',\n",
       "    'införandet',\n",
       "    'av',\n",
       "    'det',\n",
       "    'föreskrivande',\n",
       "    'förfarandet',\n",
       "    'med',\n",
       "    'kontroll',\n",
       "    'är',\n",
       "    'den',\n",
       "    'enda',\n",
       "    'kvarstående',\n",
       "    'delen',\n",
       "    'av',\n",
       "    'detta',\n",
       "    'förslag',\n",
       "    'frågan',\n",
       "    'om',\n",
       "    'underhåll',\n",
       "    'av',\n",
       "    'järnvägsfordon',\n",
       "    'och',\n",
       "    'fordonsinnehavarnas',\n",
       "    'roll'])),\n",
       " (902475,\n",
       "  (['i',\n",
       "    'trust',\n",
       "    'therefore',\n",
       "    'that',\n",
       "    'in',\n",
       "    'due',\n",
       "    'course',\n",
       "    'that',\n",
       "    'anomaly',\n",
       "    'will',\n",
       "    'be',\n",
       "    'addressed'],\n",
       "   ['jag',\n",
       "    'förutsätter',\n",
       "    'därför',\n",
       "    'att',\n",
       "    'detta',\n",
       "    'missförhållande',\n",
       "    'kommer',\n",
       "    'att',\n",
       "    'rättas',\n",
       "    'till',\n",
       "    'i',\n",
       "    'sinom',\n",
       "    'tid'])),\n",
       " (903015,\n",
       "  (['others',\n",
       "    'consider',\n",
       "    'that',\n",
       "    'what',\n",
       "    'is',\n",
       "    'proposed',\n",
       "    'goes',\n",
       "    'beyond',\n",
       "    'a',\n",
       "    'mere',\n",
       "    'reform',\n",
       "    'and',\n",
       "    'implies',\n",
       "    'modification',\n",
       "    'of',\n",
       "    'the',\n",
       "    'fundamental',\n",
       "    'structure',\n",
       "    'of',\n",
       "    'the',\n",
       "    'state'],\n",
       "   ['andra',\n",
       "    'anser',\n",
       "    'att',\n",
       "    'förslagen',\n",
       "    'går',\n",
       "    'längre',\n",
       "    'än',\n",
       "    'en',\n",
       "    'vanlig',\n",
       "    'reform',\n",
       "    'och',\n",
       "    'innebär',\n",
       "    'att',\n",
       "    'statens',\n",
       "    'grundläggande',\n",
       "    'struktur',\n",
       "    'ändras'])),\n",
       " (904140,\n",
       "  (['in',\n",
       "    'europe',\n",
       "    'recently',\n",
       "    'there',\n",
       "    'have',\n",
       "    'been',\n",
       "    'some',\n",
       "    'very',\n",
       "    'negative',\n",
       "    'incidents',\n",
       "    'in',\n",
       "    'which',\n",
       "    'the',\n",
       "    'main',\n",
       "    'actors',\n",
       "    'were',\n",
       "    'young',\n",
       "    'people',\n",
       "    'using',\n",
       "    'weapons'],\n",
       "   ['i',\n",
       "    'europa',\n",
       "    'har',\n",
       "    'vi',\n",
       "    'på',\n",
       "    'senare',\n",
       "    'tid',\n",
       "    'fått',\n",
       "    'bevittna',\n",
       "    'ett',\n",
       "    'antal',\n",
       "    'mycket',\n",
       "    'negativa',\n",
       "    'incidenter',\n",
       "    'där',\n",
       "    'huvudrollen',\n",
       "    'spelades',\n",
       "    'av',\n",
       "    'unga',\n",
       "    'människor',\n",
       "    'som',\n",
       "    'använde',\n",
       "    'vapen'])),\n",
       " (904245,\n",
       "  (['in',\n",
       "    'a',\n",
       "    'way',\n",
       "    'it',\n",
       "    'is',\n",
       "    'hypocritical',\n",
       "    'to',\n",
       "    'talk',\n",
       "    'of',\n",
       "    'defending',\n",
       "    'fundamental',\n",
       "    'rights',\n",
       "    'when',\n",
       "    'an',\n",
       "    'attempt',\n",
       "    'is',\n",
       "    'being',\n",
       "    'made',\n",
       "    'to',\n",
       "    'hide',\n",
       "    'the',\n",
       "    'content',\n",
       "    'of',\n",
       "    'this',\n",
       "    'treaty',\n",
       "    'from',\n",
       "    'the',\n",
       "    'people',\n",
       "    'avoid',\n",
       "    'holding',\n",
       "    'an',\n",
       "    'open',\n",
       "    'debate',\n",
       "    'to',\n",
       "    'clarify',\n",
       "    'the',\n",
       "    'issues',\n",
       "    'and',\n",
       "    'prevent',\n",
       "    'citizens',\n",
       "    'from',\n",
       "    'expressing',\n",
       "    'their',\n",
       "    'opinion',\n",
       "    'at',\n",
       "    'the',\n",
       "    'ballot',\n",
       "    'box',\n",
       "    'in',\n",
       "    'national',\n",
       "    'referendums'],\n",
       "   ['på',\n",
       "    'sätt',\n",
       "    'och',\n",
       "    'vis',\n",
       "    'är',\n",
       "    'det',\n",
       "    'hyckleri',\n",
       "    'att',\n",
       "    'tala',\n",
       "    'om',\n",
       "    'att',\n",
       "    'försvara',\n",
       "    'de',\n",
       "    'grundläggande',\n",
       "    'rättigheterna',\n",
       "    'när',\n",
       "    'man',\n",
       "    'gör',\n",
       "    'ett',\n",
       "    'försök',\n",
       "    'att',\n",
       "    'dölja',\n",
       "    'innehållet',\n",
       "    'i',\n",
       "    'detta',\n",
       "    'fördrag',\n",
       "    'från',\n",
       "    'allmänheten',\n",
       "    'undviker',\n",
       "    'att',\n",
       "    'diskutera',\n",
       "    'öppet',\n",
       "    'för',\n",
       "    'att',\n",
       "    'klargöra',\n",
       "    'frågorna',\n",
       "    'och',\n",
       "    'förhindrar',\n",
       "    'medborgarna',\n",
       "    'från',\n",
       "    'att',\n",
       "    'uttrycka',\n",
       "    'sina',\n",
       "    'åsikter',\n",
       "    'i',\n",
       "    'nationella',\n",
       "    'folkomröstningar']))]"
      ]
     },
     "execution_count": 22,
     "metadata": {},
     "output_type": "execute_result"
    }
   ],
   "source": [
    "joined_rdd.take(5)"
   ]
  },
  {
   "cell_type": "markdown",
   "id": "d27253f4-ce95-4db7-b79f-aa176399e106",
   "metadata": {},
   "source": [
    "6. Filter to leave only pairs of sentences with the same number of words in each sentence."
   ]
  },
  {
   "cell_type": "code",
   "execution_count": 23,
   "id": "738409ae-a28a-4cea-8c3b-80305b6cd646",
   "metadata": {},
   "outputs": [],
   "source": [
    "same_words_sentences = joined_rdd.filter(lambda lines: len(lines[1][0])==len(lines[1][1]))"
   ]
  },
  {
   "cell_type": "markdown",
   "id": "becb3a9e-b2e1-409e-adc9-708fce1d1ba3",
   "metadata": {},
   "source": [
    "7. For each sentence pair, map so that you pair each (in order) word in the two sentences. We no longer need the line numbers. (hint: use python’s built in zip() function)"
   ]
  },
  {
   "cell_type": "code",
   "execution_count": 50,
   "id": "a074a1ae-d41e-4e13-a830-e0b9b568504e",
   "metadata": {},
   "outputs": [],
   "source": [
    "word_pairs = same_words_sentences.mapValues(lambda s: zip(s[0], s[1]))\n",
    "\n",
    "wp_list = word_pairs.mapValues(lambda wp: list(wp))\n",
    "\n",
    "pure_pairs = wp_list.values()\n",
    "\n",
    "wt_pairs = pure_pairs.flatMap(lambda lst: lst)"
   ]
  },
  {
   "cell_type": "code",
   "execution_count": 51,
   "id": "7ee89178-1f94-448a-b446-70335801d136",
   "metadata": {},
   "outputs": [
    {
     "name": "stderr",
     "output_type": "stream",
     "text": [
      "                                                                                \r"
     ]
    },
    {
     "data": {
      "text/plain": [
       "[('and', 'och'),\n",
       " ('when', 'när'),\n",
       " ('they', 'de'),\n",
       " ('get', 'kommer'),\n",
       " ('home', 'hem'),\n",
       " ('they', 'kommer'),\n",
       " ('will', 'de'),\n",
       " ('doubtless', 'säkert'),\n",
       " ('continue', 'att'),\n",
       " ('the', 'fortsätta')]"
      ]
     },
     "execution_count": 51,
     "metadata": {},
     "output_type": "execute_result"
    }
   ],
   "source": [
    "wt_pairs.take(10)"
   ]
  },
  {
   "cell_type": "markdown",
   "id": "596a55e5-588f-47d1-90b0-e5cf5e1b4473",
   "metadata": {},
   "source": [
    "8. Use reduce to count the number of occurrences of the word-translation-pairs."
   ]
  },
  {
   "cell_type": "code",
   "execution_count": 53,
   "id": "2417589a-e34c-43da-9f84-d0ae7f5d13f8",
   "metadata": {},
   "outputs": [],
   "source": [
    "wp_occurance = wt_pairs.map(lambda word:(word,1))\n",
    "occurance = wp_occurance.reduceByKey(lambda a, b: a + b)"
   ]
  },
  {
   "cell_type": "code",
   "execution_count": 54,
   "id": "6b5070a6-fc18-4da2-85c6-6390cd2d07f9",
   "metadata": {},
   "outputs": [
    {
     "name": "stderr",
     "output_type": "stream",
     "text": [
      "                                                                                \r"
     ]
    },
    {
     "data": {
      "text/plain": [
       "[(('the', 'handlande'), 2),\n",
       " (('comments', 'synpunkter'), 274),\n",
       " (('protest', 'protester'), 10),\n",
       " (('mainly', 'beror'), 2)]"
      ]
     },
     "execution_count": 54,
     "metadata": {},
     "output_type": "execute_result"
    }
   ],
   "source": [
    "occurance.take(4)"
   ]
  },
  {
   "cell_type": "markdown",
   "id": "cec09347-2bce-4743-8373-4bca69044efa",
   "metadata": {},
   "source": [
    "9. Print some of the most frequently occurring pairs of words."
   ]
  },
  {
   "cell_type": "code",
   "execution_count": 55,
   "id": "695243d9-4af0-4045-81e3-476e7b7c5979",
   "metadata": {},
   "outputs": [
    {
     "name": "stderr",
     "output_type": "stream",
     "text": [
      "                                                                                \r"
     ]
    }
   ],
   "source": [
    "occurrance_vk = occurance.map(lambda p: (p[1], p[0]))\n",
    "word_rank = occurrance_vk .sortByKey(False)\n",
    "word_rank = word_rank.map(lambda p: (p[1], p[0]))"
   ]
  },
  {
   "cell_type": "code",
   "execution_count": 57,
   "id": "9d852f03-2525-4a79-864c-ef71996d23fd",
   "metadata": {},
   "outputs": [
    {
     "name": "stderr",
     "output_type": "stream",
     "text": [
      "                                                                                \r"
     ]
    },
    {
     "data": {
      "text/plain": [
       "[(('and', 'och'), 35860),\n",
       " (('is', 'är'), 28373),\n",
       " (('i', 'jag'), 27290),\n",
       " (('we', 'vi'), 26201),\n",
       " (('in', 'i'), 18646),\n",
       " (('to', 'att'), 18617),\n",
       " (('that', 'att'), 16997),\n",
       " (('it', 'det'), 15613),\n",
       " (('a', 'en'), 15474),\n",
       " (('of', 'av'), 13026)]"
      ]
     },
     "execution_count": 57,
     "metadata": {},
     "output_type": "execute_result"
    }
   ],
   "source": [
    "word_rank.take(10)"
   ]
  },
  {
   "cell_type": "code",
   "execution_count": 58,
   "id": "a3272537-e70d-45d3-bb94-1ee434b29ae1",
   "metadata": {},
   "outputs": [],
   "source": [
    "spark_session.stop()"
   ]
  }
 ],
 "metadata": {
  "kernelspec": {
   "display_name": "Python 3 (ipykernel)",
   "language": "python",
   "name": "python3"
  },
  "language_info": {
   "codemirror_mode": {
    "name": "ipython",
    "version": 3
   },
   "file_extension": ".py",
   "mimetype": "text/x-python",
   "name": "python",
   "nbconvert_exporter": "python",
   "pygments_lexer": "ipython3",
   "version": "3.8.10"
  }
 },
 "nbformat": 4,
 "nbformat_minor": 5
}
