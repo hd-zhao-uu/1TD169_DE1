{
 "cells": [
  {
   "cell_type": "code",
   "execution_count": 101,
   "id": "fa4a52a2-167c-4054-b1b3-f74d467d57e4",
   "metadata": {},
   "outputs": [],
   "source": [
    "from pyspark.sql import SparkSession\n",
    "from pyspark.sql.types import FloatType\n",
    "from pyspark.sql.functions import col\n",
    "from pyspark.sql.functions import udf\n",
    "from pyspark.sql.types import StringType"
   ]
  },
  {
   "cell_type": "code",
   "execution_count": 2,
   "id": "62d44763-d9f9-49be-8c0b-72315b4c72cf",
   "metadata": {},
   "outputs": [
    {
     "name": "stderr",
     "output_type": "stream",
     "text": [
      "Using Spark's default log4j profile: org/apache/spark/log4j-defaults.properties\n",
      "Setting default log level to \"WARN\".\n",
      "To adjust logging level use sc.setLogLevel(newLevel). For SparkR, use setLogLevel(newLevel).\n",
      "22/02/25 17:28:19 WARN NativeCodeLoader: Unable to load native-hadoop library for your platform... using builtin-java classes where applicable\n",
      "22/02/25 17:28:22 WARN ExecutorAllocationManager: Dynamic allocation without a shuffle service is an experimental feature.\n"
     ]
    }
   ],
   "source": [
    "# New API\n",
    "spark_session = SparkSession\\\n",
    "        .builder\\\n",
    "        .master(\"spark://192.168.2.119:7077\") \\\n",
    "        .appName(\"haodong_zhao_partB\")\\\n",
    "        .config(\"spark.executor.cores\",2)\\\n",
    "        .config(\"spark.dynamicAllocation.enabled\", True)\\\n",
    "        .config(\"spark.dynamicAllocation.shuffleTracking.enabled\", True)\\\n",
    "        .config(\"spark.shuffle.service.enabled\", False)\\\n",
    "        .config(\"spark.dynamicAllocation.executorIdleTimeout\",\"30s\")\\\n",
    "        .config(\"spark.driver.port\",9998)\\\n",
    "        .config(\"spark.blockManager.port\",10005)\\\n",
    "        .getOrCreate()\n",
    "\n",
    "# Old API (RDD)\n",
    "spark_context = spark_session.sparkContext\n",
    "\n",
    "spark_context.setLogLevel(\"ERROR\")"
   ]
  },
  {
   "cell_type": "markdown",
   "id": "9b7e649c-6048-468a-860d-d26185c49cf1",
   "metadata": {},
   "source": [
    "---"
   ]
  },
  {
   "cell_type": "markdown",
   "id": "1b4fce9a-787a-4fa1-8dcf-2794c497491d",
   "metadata": {},
   "source": [
    "# B.1"
   ]
  },
  {
   "cell_type": "markdown",
   "id": "eadced8a-47c4-476b-9def-667b592badac",
   "metadata": {},
   "source": [
    "Load the CSV file from HDFS, and call show() to verify the data is loaded correctly."
   ]
  },
  {
   "cell_type": "code",
   "execution_count": 5,
   "id": "27b975ae-b7ff-471f-9401-90a005771479",
   "metadata": {},
   "outputs": [],
   "source": [
    "df = spark_session.read\\\n",
    "    .option(\"header\", \"true\")\\\n",
    "    .csv('hdfs://host-192-168-2-119-de1:9000/parking-citations.csv')\\\n",
    "    .cache() # in-memory"
   ]
  },
  {
   "cell_type": "code",
   "execution_count": 6,
   "id": "9d5e14f3-898c-42b4-acd8-84b601693fc2",
   "metadata": {},
   "outputs": [
    {
     "name": "stderr",
     "output_type": "stream",
     "text": [
      "                                                                                \r"
     ]
    },
    {
     "name": "stdout",
     "output_type": "stream",
     "text": [
      "+-------------+--------------------+----------+--------+-----------+--------------+-----------------+----+----+----------+-----+--------------------+-----+------+--------------+---------------------+-----------+---------+---------+------------------+-----------------+----------------------+\n",
      "|Ticket number|          Issue Date|Issue time|Meter Id|Marked Time|RP State Plate|Plate Expiry Date| VIN|Make|Body Style|Color|            Location|Route|Agency|Violation code|Violation Description|Fine amount| Latitude|Longitude|Agency Description|Color Description|Body Style Description|\n",
      "+-------------+--------------------+----------+--------+-----------+--------------+-----------------+----+----+----------+-----+--------------------+-----+------+--------------+---------------------+-----------+---------+---------+------------------+-----------------+----------------------+\n",
      "|   1103341116|2015-12-21T00:00:...|      1251|    null|       null|            CA|           200304|null|HOND|        PA|   GY|     13147 WELBY WAY|01521|     1|        4000A1|   NO EVIDENCE OF REG|         50|    99999|    99999|              null|             null|                  null|\n",
      "|   1103700150|2015-12-21T00:00:...|      1435|    null|       null|            CA|           201512|null| GMC|        VN|   WH|       525 S MAIN ST| 1C51|     1|        4000A1|   NO EVIDENCE OF REG|         50|    99999|    99999|              null|             null|                  null|\n",
      "|   1104803000|2015-12-21T00:00:...|      2055|    null|       null|            CA|           201503|null|NISS|        PA|   BK|       200 WORLD WAY|  2R2|     2|          8939|           WHITE CURB|         58|6439997.9|1802686.4|              null|             null|                  null|\n",
      "|   1104820732|2015-12-26T00:00:...|      1515|    null|       null|            CA|             null|null|ACUR|        PA|   WH|       100 WORLD WAY| 2F11|     2|           000|               17104h|       null|6440041.1|1802686.2|              null|             null|                  null|\n",
      "|   1105461453|2015-09-15T00:00:...|       115|    null|       null|            CA|           200316|null|CHEV|        PA|   BK|  GEORGIA ST/OLYMPIC|1FB70|     1|         8069A| NO STOPPING/STANDING|         93|    99999|    99999|              null|             null|                  null|\n",
      "|   1106226590|2015-09-15T00:00:...|        19|    null|       null|            CA|           201507|null|CHEV|        VN|   GY|  SAN PEDRO S/O BOYD|1A35W|     1|        4000A1|   NO EVIDENCE OF REG|         50|    99999|    99999|              null|             null|                  null|\n",
      "|   1106500452|2015-12-17T00:00:...|      1710|    null|       null|            CA|           201605|null|MAZD|        PA|   BL|     SUNSET/ALVARADO|00217|     1|          8070| PARK IN GRID LOCK ZN|        163|    99999|    99999|              null|             null|                  null|\n",
      "|   1106500463|2015-12-17T00:00:...|      1710|    null|       null|            CA|           201602|null|TOYO|        PA|   BK|     SUNSET/ALVARADO|00217|     1|          8070| PARK IN GRID LOCK ZN|        163|    99999|    99999|              null|             null|                  null|\n",
      "|   1106506402|2015-12-22T00:00:...|       945|    null|       null|            CA|           201605|null|CHEV|        PA|   BR|      721 S WESTLAKE| 2A75|     1|        8069AA|     NO STOP/STAND AM|         93|    99999|    99999|              null|             null|                  null|\n",
      "|   1106506413|2015-12-22T00:00:...|      1100|    null|       null|            CA|           201701|null|NISS|        PA|   SI|     1159 HUNTLEY DR| 2A75|     1|        8069AA|     NO STOP/STAND AM|         93|    99999|    99999|              null|             null|                  null|\n",
      "|   1106506424|2015-12-22T00:00:...|      1100|    null|       null|            CA|           201511|null|FORD|        TR|   WH|     1159 HUNTLEY DR| 2A75|     1|        8069AA|     NO STOP/STAND AM|         93|    99999|    99999|              null|             null|                  null|\n",
      "|   1106506435|2015-12-22T00:00:...|      1105|    null|       null|            CA|           201701|null|CHRY|        PA|   GO|     1159 HUNTLEY DR| 2A75|     1|        8069AA|     NO STOP/STAND AM|         93|    99999|    99999|              null|             null|                  null|\n",
      "|   1106506446|2015-12-22T00:00:...|      1110|    null|       null|            CA|           201511|null| BMW|        PA|   BK|      1200 W MIRAMAR| 2A75|     1|        4000A1|   NO EVIDENCE OF REG|         50|    99999|    99999|              null|             null|                  null|\n",
      "|   1106549754|2015-12-15T00:00:...|       825|    null|       null|            CA|           201607|null|PTRB|        TR|   BK|           4TH/STATE| CM96|     1|         8069A| NO STOPPING/STANDING|         93|    99999|    99999|              null|             null|                  null|\n",
      "|   1107179581|2015-12-27T00:00:...|      1055|    null|       null|            CA|           201605|null|TOYO|        PA|   BK|3100 N HOLLYRIDGE DR| null|    54|         8058L|         PREF PARKING|         68|    99999|    99999|              null|             null|                  null|\n",
      "|   1107179592|2015-12-27T00:00:...|      1200|    null|       null|            CA|           201602|null|MBNZ|        PA|   BK|   3115 N BERENDO DR| null|    54|         8058L|         PREF PARKING|         68|    99999|    99999|              null|             null|                  null|\n",
      "|   1107179603|2015-12-27T00:00:...|      1400|    null|       null|            CA|           201611|null|NISS|        PA|   WH| 3100 N BEACHWOOD DR| null|    54|         8058L|         PREF PARKING|         68|    99999|    99999|              null|             null|                  null|\n",
      "|   1107539823|2015-09-16T00:00:...|      2120|    null|       null|            CA|           201502|null|NISS|        PA| null|      BLAINE/11TH PL|1FB95|     1|        4000A1|   NO EVIDENCE OF REG|         50|    99999|    99999|              null|             null|                  null|\n",
      "|   1107539834|2015-09-16T00:00:...|      1045|    null|       null|            CA|             null|null|CHEV|        PA|   BK|  1246 S FIGUEROA ST| 1L20|     1|        8069AP|     NO STOP/STAND PM|         93|    99999|    99999|              null|             null|                  null|\n",
      "|   1107780811|2015-12-22T00:00:...|      1102|    null|       null|            CA|           201606|null|HOND|        PA|   BK|       PLATA/RAMPART|  2A1|     1|         8069B|           NO PARKING|         73|    99999|    99999|              null|             null|                  null|\n",
      "+-------------+--------------------+----------+--------+-----------+--------------+-----------------+----+----+----------+-----+--------------------+-----+------+--------------+---------------------+-----------+---------+---------+------------------+-----------------+----------------------+\n",
      "only showing top 20 rows\n",
      "\n"
     ]
    }
   ],
   "source": [
    "df.show()"
   ]
  },
  {
   "cell_type": "markdown",
   "id": "cbd717eb-2541-45fa-b862-eae0a4e74708",
   "metadata": {},
   "source": [
    "---"
   ]
  },
  {
   "cell_type": "markdown",
   "id": "84efa740-95ef-4036-91f2-3faf76b4555e",
   "metadata": {},
   "source": [
    "# B.2"
   ]
  },
  {
   "cell_type": "markdown",
   "id": "f5dae414-f211-4509-beca-ca13368469df",
   "metadata": {},
   "source": [
    "Print the schema for the DataFrame"
   ]
  },
  {
   "cell_type": "code",
   "execution_count": 7,
   "id": "fe597f9b-cb11-4aac-b921-dede44843190",
   "metadata": {},
   "outputs": [
    {
     "name": "stdout",
     "output_type": "stream",
     "text": [
      "root\n",
      " |-- Ticket number: string (nullable = true)\n",
      " |-- Issue Date: string (nullable = true)\n",
      " |-- Issue time: string (nullable = true)\n",
      " |-- Meter Id: string (nullable = true)\n",
      " |-- Marked Time: string (nullable = true)\n",
      " |-- RP State Plate: string (nullable = true)\n",
      " |-- Plate Expiry Date: string (nullable = true)\n",
      " |-- VIN: string (nullable = true)\n",
      " |-- Make: string (nullable = true)\n",
      " |-- Body Style: string (nullable = true)\n",
      " |-- Color: string (nullable = true)\n",
      " |-- Location: string (nullable = true)\n",
      " |-- Route: string (nullable = true)\n",
      " |-- Agency: string (nullable = true)\n",
      " |-- Violation code: string (nullable = true)\n",
      " |-- Violation Description: string (nullable = true)\n",
      " |-- Fine amount: string (nullable = true)\n",
      " |-- Latitude: string (nullable = true)\n",
      " |-- Longitude: string (nullable = true)\n",
      " |-- Agency Description: string (nullable = true)\n",
      " |-- Color Description: string (nullable = true)\n",
      " |-- Body Style Description: string (nullable = true)\n",
      "\n"
     ]
    }
   ],
   "source": [
    "df.printSchema()"
   ]
  },
  {
   "cell_type": "markdown",
   "id": "f6103661-f039-45dc-8551-8a6f7873b405",
   "metadata": {},
   "source": [
    "---"
   ]
  },
  {
   "cell_type": "markdown",
   "id": "8ef5e3d3-d3f8-44d7-95ed-fb3f264e348e",
   "metadata": {},
   "source": [
    "# B.3 "
   ]
  },
  {
   "cell_type": "markdown",
   "id": "dd0c1c69-9e13-4a75-9d57-2859d8af18ed",
   "metadata": {},
   "source": [
    "Count the number of rows in the CSV file."
   ]
  },
  {
   "cell_type": "code",
   "execution_count": 8,
   "id": "980601dd-27b6-4205-87d5-984fad59b415",
   "metadata": {},
   "outputs": [
    {
     "name": "stderr",
     "output_type": "stream",
     "text": [
      "                                                                                \r"
     ]
    },
    {
     "data": {
      "text/plain": [
       "13077724"
      ]
     },
     "execution_count": 8,
     "metadata": {},
     "output_type": "execute_result"
    }
   ],
   "source": [
    "df.count()"
   ]
  },
  {
   "cell_type": "markdown",
   "id": "901a8474-c9fa-4112-9aa9-47494a64a056",
   "metadata": {},
   "source": [
    "---"
   ]
  },
  {
   "cell_type": "markdown",
   "id": "ca0a013a-2d8e-496e-b340-5c0b92b4b694",
   "metadata": {},
   "source": [
    "# B.4"
   ]
  },
  {
   "cell_type": "markdown",
   "id": "9ed86594-1a1f-43fb-b60c-e7a85f768aa2",
   "metadata": {},
   "source": [
    "Count the number of partitions in the underlying RDD."
   ]
  },
  {
   "cell_type": "code",
   "execution_count": 9,
   "id": "e2743ac9-499a-4b30-825d-2d951c0167d0",
   "metadata": {},
   "outputs": [
    {
     "data": {
      "text/plain": [
       "16"
      ]
     },
     "execution_count": 9,
     "metadata": {},
     "output_type": "execute_result"
    }
   ],
   "source": [
    "data_frame.rdd.getNumPartitions()"
   ]
  },
  {
   "cell_type": "markdown",
   "id": "f989c16f-44b2-4dba-a655-90ccb530cc2c",
   "metadata": {},
   "source": [
    "---"
   ]
  },
  {
   "cell_type": "markdown",
   "id": "47d891e3-28ee-4bd9-bf5b-b21176f0a60c",
   "metadata": {},
   "source": [
    "# B.5 "
   ]
  },
  {
   "cell_type": "markdown",
   "id": "7367651b-6fa2-4773-a88c-56a93a729179",
   "metadata": {},
   "source": [
    "Drop the columns VIN, Latitude and Longitude."
   ]
  },
  {
   "cell_type": "code",
   "execution_count": 10,
   "id": "8ba7a091-f92f-458e-8375-8d60ea708b5e",
   "metadata": {},
   "outputs": [],
   "source": [
    "df = df.drop('VIN', 'Latitude', 'Longitude')"
   ]
  },
  {
   "cell_type": "code",
   "execution_count": 11,
   "id": "8b5a9ec9-0a79-454b-8fca-761dafd78df2",
   "metadata": {},
   "outputs": [
    {
     "name": "stdout",
     "output_type": "stream",
     "text": [
      "root\n",
      " |-- Ticket number: string (nullable = true)\n",
      " |-- Issue Date: string (nullable = true)\n",
      " |-- Issue time: string (nullable = true)\n",
      " |-- Meter Id: string (nullable = true)\n",
      " |-- Marked Time: string (nullable = true)\n",
      " |-- RP State Plate: string (nullable = true)\n",
      " |-- Plate Expiry Date: string (nullable = true)\n",
      " |-- Make: string (nullable = true)\n",
      " |-- Body Style: string (nullable = true)\n",
      " |-- Color: string (nullable = true)\n",
      " |-- Location: string (nullable = true)\n",
      " |-- Route: string (nullable = true)\n",
      " |-- Agency: string (nullable = true)\n",
      " |-- Violation code: string (nullable = true)\n",
      " |-- Violation Description: string (nullable = true)\n",
      " |-- Fine amount: string (nullable = true)\n",
      " |-- Agency Description: string (nullable = true)\n",
      " |-- Color Description: string (nullable = true)\n",
      " |-- Body Style Description: string (nullable = true)\n",
      "\n"
     ]
    }
   ],
   "source": [
    "df.printSchema()"
   ]
  },
  {
   "cell_type": "markdown",
   "id": "c9699581-c65b-4da6-b859-210377877d97",
   "metadata": {},
   "source": [
    "---"
   ]
  },
  {
   "cell_type": "markdown",
   "id": "7b28971c-2721-4a35-918d-184658b6517f",
   "metadata": {},
   "source": [
    "# B.6"
   ]
  },
  {
   "cell_type": "markdown",
   "id": "d14c0090-3626-4f39-8937-0267467e7864",
   "metadata": {},
   "source": [
    "Find the maximum fine amount. How many fines have this amount?\n",
    "\n",
    "You need to convert the ‘fine amount’ column to a float to do this correctly."
   ]
  },
  {
   "cell_type": "code",
   "execution_count": 30,
   "id": "affc5d09-1c9b-409d-9baa-2557f8afd0ed",
   "metadata": {},
   "outputs": [],
   "source": [
    "df = df.withColumn(\"Fine amount\",df[\"Fine amount\"].cast(FloatType()))"
   ]
  },
  {
   "cell_type": "code",
   "execution_count": 31,
   "id": "e716bf9a-b208-44b4-89d4-f596137535e8",
   "metadata": {},
   "outputs": [
    {
     "name": "stdout",
     "output_type": "stream",
     "text": [
      "root\n",
      " |-- Ticket number: string (nullable = true)\n",
      " |-- Issue Date: string (nullable = true)\n",
      " |-- Issue time: string (nullable = true)\n",
      " |-- Meter Id: string (nullable = true)\n",
      " |-- Marked Time: string (nullable = true)\n",
      " |-- RP State Plate: string (nullable = true)\n",
      " |-- Plate Expiry Date: string (nullable = true)\n",
      " |-- Make: string (nullable = true)\n",
      " |-- Body Style: string (nullable = true)\n",
      " |-- Color: string (nullable = true)\n",
      " |-- Location: string (nullable = true)\n",
      " |-- Route: string (nullable = true)\n",
      " |-- Agency: string (nullable = true)\n",
      " |-- Violation code: string (nullable = true)\n",
      " |-- Violation Description: string (nullable = true)\n",
      " |-- Fine amount: float (nullable = true)\n",
      " |-- Agency Description: string (nullable = true)\n",
      " |-- Color Description: string (nullable = true)\n",
      " |-- Body Style Description: string (nullable = true)\n",
      "\n"
     ]
    }
   ],
   "source": [
    "df.printSchema()"
   ]
  },
  {
   "cell_type": "code",
   "execution_count": 32,
   "id": "f03eb040-2a67-47b6-80a3-c5229fc7319a",
   "metadata": {},
   "outputs": [
    {
     "data": {
      "text/plain": [
       "1100.0"
      ]
     },
     "execution_count": 32,
     "metadata": {},
     "output_type": "execute_result"
    }
   ],
   "source": [
    "fine_amount = df.select('Fine amount')\n",
    "fa_sort = fine_amount.sort('Fine amount', ascending=False)\n",
    "amount = fa_sort.first()[0]\n",
    "amount"
   ]
  },
  {
   "cell_type": "code",
   "execution_count": 33,
   "id": "bc9b4b55-3bff-415e-b4c5-883363f1357f",
   "metadata": {},
   "outputs": [
    {
     "data": {
      "text/plain": [
       "626"
      ]
     },
     "execution_count": 33,
     "metadata": {},
     "output_type": "execute_result"
    }
   ],
   "source": [
    "fa_max.filter(col(\"Fine amount\") == amount).count()"
   ]
  },
  {
   "cell_type": "markdown",
   "id": "6fcf6c3e-884d-41ab-9363-fb556d3c4299",
   "metadata": {},
   "source": [
    "So, the maximum fine amount is 1100, and 626 fines have this amount."
   ]
  },
  {
   "cell_type": "markdown",
   "id": "7599601e-6316-4801-9d38-0696a035d522",
   "metadata": {},
   "source": [
    "---"
   ]
  },
  {
   "cell_type": "markdown",
   "id": "1f4c9747-ffba-43b4-9857-2cf4db2cd6fe",
   "metadata": {},
   "source": [
    "# B.7 "
   ]
  },
  {
   "cell_type": "markdown",
   "id": "5672a6de-8e79-48f7-98c8-12f215d2b2a1",
   "metadata": {},
   "source": [
    "Show the top 20 most frequent vehicle makes, and their frequencies."
   ]
  },
  {
   "cell_type": "code",
   "execution_count": 77,
   "id": "78fd04ab-2653-4637-9e79-fcc471e44d89",
   "metadata": {},
   "outputs": [],
   "source": [
    "makes_col = df.select('Make')\n",
    "makes_freq= makes_col.groupby(makes_col.Make).count()"
   ]
  },
  {
   "cell_type": "code",
   "execution_count": 98,
   "id": "812dba0b-1987-4061-b4ee-541c6d3ce5dc",
   "metadata": {},
   "outputs": [
    {
     "data": {
      "text/plain": [
       "DataFrame[Make: string, Count: bigint]"
      ]
     },
     "execution_count": 98,
     "metadata": {},
     "output_type": "execute_result"
    }
   ],
   "source": [
    "makes_freq.withColumnRenamed('count', 'Count')"
   ]
  },
  {
   "cell_type": "code",
   "execution_count": 99,
   "id": "947fdc77-0a29-4514-a566-f3526b56b1b5",
   "metadata": {},
   "outputs": [
    {
     "name": "stdout",
     "output_type": "stream",
     "text": [
      "+----+-------+\n",
      "|Make|  count|\n",
      "+----+-------+\n",
      "|TOYT|2150768|\n",
      "|HOND|1479996|\n",
      "|FORD|1116235|\n",
      "|NISS| 945133|\n",
      "|CHEV| 892676|\n",
      "| BMW| 603092|\n",
      "|MERZ| 543298|\n",
      "|VOLK| 432030|\n",
      "|HYUN| 404917|\n",
      "|DODG| 391686|\n",
      "|LEXS| 368420|\n",
      "| KIA| 328155|\n",
      "|JEEP| 316300|\n",
      "|AUDI| 255395|\n",
      "|MAZD| 242344|\n",
      "|OTHR| 205546|\n",
      "| GMC| 184889|\n",
      "|INFI| 174315|\n",
      "|CHRY| 159948|\n",
      "|SUBA| 154640|\n",
      "+----+-------+\n",
      "only showing top 20 rows\n",
      "\n"
     ]
    }
   ],
   "source": [
    "top20_makes_freq = makes_freq.sort(\"count\", ascending=False).show(20)"
   ]
  },
  {
   "cell_type": "markdown",
   "id": "18ac3cb1-4564-4e8e-acf5-06460795b8bb",
   "metadata": {},
   "source": [
    "---"
   ]
  },
  {
   "cell_type": "markdown",
   "id": "9a3ed47e-77d4-49cf-b089-842c2ee94114",
   "metadata": {},
   "source": [
    "# B.8 "
   ]
  },
  {
   "cell_type": "markdown",
   "id": "f8cbac8a-3013-44e2-b195-ff7729fa88ae",
   "metadata": {},
   "source": [
    "Let’s expand some abbreviations in the color column. Create a User Defined Function to create a new column, ‘color long’, mapping the original colors to their corresponding values in the dictionary below. If there is no key matching the original color, use the original color\n",
    "```\n",
    "COLORS = {\n",
    "'AL':'Aluminum', 'AM':'Amber', 'BG':'Beige', 'BK':'Black', 'BL':'Blue', 'BN':'Brown', 'BR':'Brown', 'BZ':'Bronze', 'CH':'Charcoal', 'DK':'Dark', 'GD':'Gold', 'GO':'Gold', 'GN':'Green', 'GY':'Gray', 'GT':'Granite', 'IV':'Ivory', 'LT':'Light', 'OL':'Olive', 'OR':'Orange', 'MR':'Maroon', 'PK':'Pink', 'RD':'Red', 'RE':'Red', 'SI':'Silver', 'SL':'Silver', 'SM':'Smoke', 'TN':'Tan', 'VT':'Violet', 'WT':'White', 'WH':'White', 'YL':'Yellow', 'YE':'Yellow', 'UN':'Unknown'\n",
    "}\n",
    "```"
   ]
  },
  {
   "cell_type": "code",
   "execution_count": 100,
   "id": "3d68c58d-bfa2-45fd-b280-07b26ff68904",
   "metadata": {},
   "outputs": [],
   "source": [
    "COLORS = {\n",
    "    'AL':'Aluminum', 'AM':'Amber', 'BG':'Beige', \n",
    "    'BK':'Black', 'BL':'Blue', 'BN':'Brown', \n",
    "    'BR':'Brown', 'BZ':'Bronze', 'CH':'Charcoal', \n",
    "    'DK':'Dark', 'GD':'Gold', 'GO':'Gold', \n",
    "    'GN':'Green', 'GY':'Gray', 'GT':'Granite', \n",
    "    'IV':'Ivory', 'LT':'Light', 'OL':'Olive', \n",
    "    'OR':'Orange', 'MR':'Maroon', 'PK':'Pink', \n",
    "    'RD':'Red', 'RE':'Red', 'SI':'Silver', \n",
    "    'SL':'Silver', 'SM':'Smoke', 'TN':'Tan', \n",
    "    'VT':'Violet', 'WT':'White', 'WH':'White',\n",
    "    'YL':'Yellow', 'YE':'Yellow', 'UN':'Unknown'\n",
    "}"
   ]
  },
  {
   "cell_type": "code",
   "execution_count": 112,
   "id": "bdecbbc6-02f6-45a0-aab6-021108465287",
   "metadata": {},
   "outputs": [],
   "source": [
    "# user-defined function\n",
    "def color_convert(abbr):\n",
    "    if abbr in COLORS.keys():\n",
    "        return COLORS[abbr]\n",
    "    else: return abbr\n",
    "\n",
    "udf_cc = udf(color_convert, StringType())"
   ]
  },
  {
   "cell_type": "code",
   "execution_count": 113,
   "id": "d57c9a7b-0fd9-4dbd-8af1-87ad3e167c24",
   "metadata": {},
   "outputs": [
    {
     "name": "stdout",
     "output_type": "stream",
     "text": [
      "+-----+----------+\n",
      "|Color|Color Long|\n",
      "+-----+----------+\n",
      "|   GY|      Gray|\n",
      "|   WH|     White|\n",
      "|   BK|     Black|\n",
      "|   WH|     White|\n",
      "|   BK|     Black|\n",
      "|   GY|      Gray|\n",
      "|   BL|      Blue|\n",
      "|   BK|     Black|\n",
      "|   BR|     Brown|\n",
      "|   SI|    Silver|\n",
      "|   WH|     White|\n",
      "|   GO|      Gold|\n",
      "|   BK|     Black|\n",
      "|   BK|     Black|\n",
      "|   BK|     Black|\n",
      "|   BK|     Black|\n",
      "|   WH|     White|\n",
      "| null|      null|\n",
      "|   BK|     Black|\n",
      "|   BK|     Black|\n",
      "+-----+----------+\n",
      "only showing top 20 rows\n",
      "\n"
     ]
    }
   ],
   "source": [
    "new_df = df.withColumn(\"Color Long\", udf_cc(\"Color\"))\n",
    "new_df.select(\"Color\", \"Color Long\").show()"
   ]
  },
  {
   "cell_type": "markdown",
   "id": "f955897e-5477-4c86-abbb-5562c1bd5b65",
   "metadata": {},
   "source": [
    "---"
   ]
  },
  {
   "cell_type": "markdown",
   "id": "081ac570-4d69-4e0b-a992-b8ec928c08a8",
   "metadata": {},
   "source": [
    "# B.9"
   ]
  },
  {
   "cell_type": "markdown",
   "id": "a4d06372-398b-4c13-9da7-2c18cbf8a31f",
   "metadata": {},
   "source": [
    "Using this new column, what’s the most frequent colour value for Toyotas (TOYT)?"
   ]
  },
  {
   "cell_type": "code",
   "execution_count": 125,
   "id": "963a1cd1-6aea-4b7b-8654-766acb2ebbd3",
   "metadata": {},
   "outputs": [],
   "source": [
    "df_toyt = new_df.filter(df.Make==\"TOYT\")"
   ]
  },
  {
   "cell_type": "code",
   "execution_count": 131,
   "id": "ac3a885a-6908-4e26-858f-80d982549532",
   "metadata": {},
   "outputs": [
    {
     "name": "stderr",
     "output_type": "stream",
     "text": [
      "[Stage 100:===================================================>   (15 + 1) / 16]\r"
     ]
    },
    {
     "name": "stdout",
     "output_type": "stream",
     "text": [
      "+----------+------+\n",
      "|Color Long| count|\n",
      "+----------+------+\n",
      "|      Gray|489697|\n",
      "+----------+------+\n",
      "only showing top 1 row\n",
      "\n"
     ]
    },
    {
     "name": "stderr",
     "output_type": "stream",
     "text": [
      "                                                                                \r"
     ]
    }
   ],
   "source": [
    "df_toyt_color = df_toyt.select(\"Color Long\").groupBy(r\"Color Long\").count()\n",
    "color_freq = df_toyt_color.sort(\"count\", ascending=False).show(1)"
   ]
  }
 ],
 "metadata": {
  "kernelspec": {
   "display_name": "Python 3 (ipykernel)",
   "language": "python",
   "name": "python3"
  },
  "language_info": {
   "codemirror_mode": {
    "name": "ipython",
    "version": 3
   },
   "file_extension": ".py",
   "mimetype": "text/x-python",
   "name": "python",
   "nbconvert_exporter": "python",
   "pygments_lexer": "ipython3",
   "version": "3.8.10"
  }
 },
 "nbformat": 4,
 "nbformat_minor": 5
}
